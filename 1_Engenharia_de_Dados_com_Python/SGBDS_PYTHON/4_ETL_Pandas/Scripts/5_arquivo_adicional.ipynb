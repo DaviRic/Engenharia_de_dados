{
 "cells": [
  {
   "cell_type": "code",
   "execution_count": null,
   "metadata": {},
   "outputs": [],
   "source": [
    "import pandas as pd\n",
    "import os\n",
    "\n",
    "diretorio = r\"C:\\Users\\Cliente\\Desktop\\Engenharia_de_dados_com_Python\\SGBDS_PYTHON\\4_ETL Pandas\\arquivos_excel\"\n",
    "\n",
    "# Variável que vai armazenar os dados dos arquivos .xlsx\n",
    "dados = []\n",
    "\n",
    "# Itera sobre os arquivos .xlsx presentes no diretório\n",
    "for arquivo in os.listdir(diretorio):\n",
    "    if arquivo.endswith('.xlsx'):\n",
    "        caminho_arquivo = os.path.join(diretorio, arquivo)\n",
    "        df = pd.read_excel(caminho_arquivo)\n",
    "        dados.append(df)\n",
    "\n",
    "consolidado = pd.concat(dados)\n",
    "consolidado"
   ]
  }
 ],
 "metadata": {
  "kernelspec": {
   "display_name": "base",
   "language": "python",
   "name": "python3"
  },
  "language_info": {
   "name": "python",
   "version": "3.11.7"
  }
 },
 "nbformat": 4,
 "nbformat_minor": 2
}
