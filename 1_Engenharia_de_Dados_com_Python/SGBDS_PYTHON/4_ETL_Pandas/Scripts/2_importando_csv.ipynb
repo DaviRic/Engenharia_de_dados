{
 "cells": [
  {
   "cell_type": "code",
   "execution_count": 6,
   "metadata": {},
   "outputs": [],
   "source": [
    "import pandas as pd"
   ]
  },
  {
   "cell_type": "code",
   "execution_count": 7,
   "metadata": {},
   "outputs": [
    {
     "data": {
      "text/html": [
       "<div>\n",
       "<style scoped>\n",
       "    .dataframe tbody tr th:only-of-type {\n",
       "        vertical-align: middle;\n",
       "    }\n",
       "\n",
       "    .dataframe tbody tr th {\n",
       "        vertical-align: top;\n",
       "    }\n",
       "\n",
       "    .dataframe thead th {\n",
       "        text-align: right;\n",
       "    }\n",
       "</style>\n",
       "<table border=\"1\" class=\"dataframe\">\n",
       "  <thead>\n",
       "    <tr style=\"text-align: right;\">\n",
       "      <th></th>\n",
       "      <th>id</th>\n",
       "      <th>created_at</th>\n",
       "      <th>first_name</th>\n",
       "      <th>last_name</th>\n",
       "      <th>email</th>\n",
       "      <th>cell_phone</th>\n",
       "      <th>country</th>\n",
       "      <th>state</th>\n",
       "      <th>street</th>\n",
       "      <th>number</th>\n",
       "      <th>additionals</th>\n",
       "    </tr>\n",
       "  </thead>\n",
       "  <tbody>\n",
       "    <tr>\n",
       "      <th>0</th>\n",
       "      <td>0</td>\n",
       "      <td>2017-11-01 14:45:41</td>\n",
       "      <td>Marta</td>\n",
       "      <td>Jesus</td>\n",
       "      <td>NaN</td>\n",
       "      <td>9 9102-7834</td>\n",
       "      <td>Brasil</td>\n",
       "      <td>Acre</td>\n",
       "      <td>NaN</td>\n",
       "      <td>NaN</td>\n",
       "      <td>Conjunto 16</td>\n",
       "    </tr>\n",
       "    <tr>\n",
       "      <th>1</th>\n",
       "      <td>1</td>\n",
       "      <td>2017-10-16 00:50:39</td>\n",
       "      <td>Luana</td>\n",
       "      <td>Almeida</td>\n",
       "      <td>NaN</td>\n",
       "      <td>9 7328-8718</td>\n",
       "      <td>Brasil</td>\n",
       "      <td>Rio Grande do Sul</td>\n",
       "      <td>Avenida 56 do Estado Rio Grande do Sul</td>\n",
       "      <td>989.0</td>\n",
       "      <td>Conjunto 17</td>\n",
       "    </tr>\n",
       "    <tr>\n",
       "      <th>2</th>\n",
       "      <td>2</td>\n",
       "      <td>2018-06-16 17:51:29</td>\n",
       "      <td>Frida</td>\n",
       "      <td>Mendes</td>\n",
       "      <td>frida@meu_email.com</td>\n",
       "      <td>9 5906-7552</td>\n",
       "      <td>Brasil</td>\n",
       "      <td>São Paulo</td>\n",
       "      <td>Avenida 59 do Estado São Paulo</td>\n",
       "      <td>534.0</td>\n",
       "      <td>NaN</td>\n",
       "    </tr>\n",
       "    <tr>\n",
       "      <th>3</th>\n",
       "      <td>3</td>\n",
       "      <td>2018-01-17 03:02:58</td>\n",
       "      <td>Daniela</td>\n",
       "      <td>Avelino</td>\n",
       "      <td>daniela@exemplo.com</td>\n",
       "      <td>9 4642-9486</td>\n",
       "      <td>Brasil</td>\n",
       "      <td>Mato Grosso</td>\n",
       "      <td>NaN</td>\n",
       "      <td>NaN</td>\n",
       "      <td>NaN</td>\n",
       "    </tr>\n",
       "    <tr>\n",
       "      <th>4</th>\n",
       "      <td>4</td>\n",
       "      <td>2018-08-06 07:24:16</td>\n",
       "      <td>Romário</td>\n",
       "      <td>Teixeira</td>\n",
       "      <td>NaN</td>\n",
       "      <td>9 3093-6522</td>\n",
       "      <td>Brasil</td>\n",
       "      <td>Bahia</td>\n",
       "      <td>Praça 56 do Estado Bahia</td>\n",
       "      <td>191.0</td>\n",
       "      <td>Apto 12</td>\n",
       "    </tr>\n",
       "  </tbody>\n",
       "</table>\n",
       "</div>"
      ],
      "text/plain": [
       "   id           created_at first_name last_name                email  \\\n",
       "0   0  2017-11-01 14:45:41      Marta     Jesus                  NaN   \n",
       "1   1  2017-10-16 00:50:39      Luana   Almeida                  NaN   \n",
       "2   2  2018-06-16 17:51:29      Frida    Mendes  frida@meu_email.com   \n",
       "3   3  2018-01-17 03:02:58    Daniela   Avelino  daniela@exemplo.com   \n",
       "4   4  2018-08-06 07:24:16    Romário  Teixeira                  NaN   \n",
       "\n",
       "    cell_phone country              state  \\\n",
       "0  9 9102-7834  Brasil               Acre   \n",
       "1  9 7328-8718  Brasil  Rio Grande do Sul   \n",
       "2  9 5906-7552  Brasil          São Paulo   \n",
       "3  9 4642-9486  Brasil        Mato Grosso   \n",
       "4  9 3093-6522  Brasil              Bahia   \n",
       "\n",
       "                                   street  number  additionals  \n",
       "0                                     NaN     NaN  Conjunto 16  \n",
       "1  Avenida 56 do Estado Rio Grande do Sul   989.0  Conjunto 17  \n",
       "2          Avenida 59 do Estado São Paulo   534.0          NaN  \n",
       "3                                     NaN     NaN          NaN  \n",
       "4                Praça 56 do Estado Bahia   191.0      Apto 12  "
      ]
     },
     "execution_count": 7,
     "metadata": {},
     "output_type": "execute_result"
    }
   ],
   "source": [
    "df = pd.read_csv(r\"C:\\Users\\Cliente\\Desktop\\Engenharia_de_dados_com_Python\\SGBDS_PYTHON\\4_ETL Pandas\\arquivos_csv\\Clientes.csv\", delimiter=',')\n",
    "df.head(5)"
   ]
  },
  {
   "cell_type": "code",
   "execution_count": null,
   "metadata": {},
   "outputs": [],
   "source": [
    "# Filtrar um item específico de uma coluna\n",
    "df_estado = df.loc[df['state'] == 'Mato Grosso']\n",
    "df_estado"
   ]
  },
  {
   "cell_type": "code",
   "execution_count": null,
   "metadata": {},
   "outputs": [],
   "source": [
    "# Escolher estados específicos\n",
    "estados = ['Rio de Janeiro', 'Ceará', 'Rondônia', 'Bahia']\n",
    "df_estados = df.loc[df['state'].isin(estados)]\n",
    "df_estados.head(5)"
   ]
  },
  {
   "cell_type": "code",
   "execution_count": 53,
   "metadata": {},
   "outputs": [],
   "source": [
    "# Substituir os valores NaN. Esse valor quebra na leitura do dataframe\n",
    "df['street'] = df['street'].fillna('Não registrado')\n",
    "df['number'] = df['number'].fillna('Sem número')\n",
    "df['additionals'] = df['additionals'].fillna('Sem informação adicional')\n",
    "df['email'] = df['email'].fillna('Email não cadastrado')\n",
    "df['state'] = df['state'].fillna('Estado não informado')"
   ]
  },
  {
   "cell_type": "code",
   "execution_count": null,
   "metadata": {},
   "outputs": [],
   "source": [
    "df"
   ]
  },
  {
   "cell_type": "markdown",
   "metadata": {},
   "source": [
    "#### Método replace"
   ]
  },
  {
   "cell_type": "code",
   "execution_count": 55,
   "metadata": {},
   "outputs": [],
   "source": [
    "# df = pd.read_csv(caminho)"
   ]
  },
  {
   "cell_type": "code",
   "execution_count": null,
   "metadata": {},
   "outputs": [],
   "source": [
    "df['state'] = df['state'].replace('São Paulo', 'Sao Paulo')\n",
    "df"
   ]
  },
  {
   "cell_type": "code",
   "execution_count": null,
   "metadata": {},
   "outputs": [],
   "source": [
    "# Usando variáveis como parâmetro no método replace\n",
    "valor_atual = 'Amazonas'\n",
    "valor_substituto = 'AM'\n",
    "\n",
    "df['state'] = df['state'].replace(valor_atual, valor_substituto)\n",
    "df.head(3)"
   ]
  },
  {
   "cell_type": "code",
   "execution_count": null,
   "metadata": {},
   "outputs": [],
   "source": [
    "# Fazendo a substituição de vários valores ao mesmo tempo\n",
    "df_lista_estados = {'Paraná': 'PR', 'Rondônia': 'RO', 'Pará': 'PA', 'Minas Gerais': 'MG'}\n",
    "df['state'] = df['state'].replace(df_lista_estados)\n",
    "df"
   ]
  },
  {
   "cell_type": "code",
   "execution_count": 10,
   "metadata": {},
   "outputs": [
    {
     "data": {
      "text/html": [
       "<div>\n",
       "<style scoped>\n",
       "    .dataframe tbody tr th:only-of-type {\n",
       "        vertical-align: middle;\n",
       "    }\n",
       "\n",
       "    .dataframe tbody tr th {\n",
       "        vertical-align: top;\n",
       "    }\n",
       "\n",
       "    .dataframe thead th {\n",
       "        text-align: right;\n",
       "    }\n",
       "</style>\n",
       "<table border=\"1\" class=\"dataframe\">\n",
       "  <thead>\n",
       "    <tr style=\"text-align: right;\">\n",
       "      <th></th>\n",
       "      <th>Vendedor</th>\n",
       "      <th>Vendas</th>\n",
       "    </tr>\n",
       "  </thead>\n",
       "  <tbody>\n",
       "    <tr>\n",
       "      <th>0</th>\n",
       "      <td>Lucas</td>\n",
       "      <td>625</td>\n",
       "    </tr>\n",
       "    <tr>\n",
       "      <th>1</th>\n",
       "      <td>Maria</td>\n",
       "      <td>594</td>\n",
       "    </tr>\n",
       "    <tr>\n",
       "      <th>2</th>\n",
       "      <td>Natália</td>\n",
       "      <td>650</td>\n",
       "    </tr>\n",
       "    <tr>\n",
       "      <th>3</th>\n",
       "      <td>Henrique</td>\n",
       "      <td>862</td>\n",
       "    </tr>\n",
       "    <tr>\n",
       "      <th>4</th>\n",
       "      <td>marcos</td>\n",
       "      <td>452</td>\n",
       "    </tr>\n",
       "  </tbody>\n",
       "</table>\n",
       "</div>"
      ],
      "text/plain": [
       "   Vendedor  Vendas\n",
       "0    Lucas      625\n",
       "1     Maria     594\n",
       "2   Natália     650\n",
       "3  Henrique     862\n",
       "4    marcos     452"
      ]
     },
     "execution_count": 10,
     "metadata": {},
     "output_type": "execute_result"
    }
   ],
   "source": [
    "import pandas as pd\n",
    "debug_caminho = r\"C:\\Users\\Cliente\\Desktop\\Engenharia_de_dados_com_Python\\SGBDS_PYTHON\\4_ETL Pandas\\arquivos_excel\\Caquinha.xlsx\"\n",
    "\n",
    "df_debug = pd.read_excel(debug_caminho)\n",
    "df_debug.head()"
   ]
  },
  {
   "cell_type": "code",
   "execution_count": null,
   "metadata": {},
   "outputs": [],
   "source": []
  }
 ],
 "metadata": {
  "kernelspec": {
   "display_name": "sgbds",
   "language": "python",
   "name": "python3"
  },
  "language_info": {
   "codemirror_mode": {
    "name": "ipython",
    "version": 3
   },
   "file_extension": ".py",
   "mimetype": "text/x-python",
   "name": "python",
   "nbconvert_exporter": "python",
   "pygments_lexer": "ipython3",
   "version": "3.10.2"
  }
 },
 "nbformat": 4,
 "nbformat_minor": 2
}
