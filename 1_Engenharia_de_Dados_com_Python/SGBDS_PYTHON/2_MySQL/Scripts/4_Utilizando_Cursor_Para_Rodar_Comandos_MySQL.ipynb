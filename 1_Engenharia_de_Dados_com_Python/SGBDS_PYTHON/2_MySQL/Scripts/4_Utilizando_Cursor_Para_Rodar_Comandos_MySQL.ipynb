{
 "cells": [
  {
   "cell_type": "markdown",
   "metadata": {},
   "source": [
    "#### Executando comando MySQL em python"
   ]
  },
  {
   "cell_type": "code",
   "execution_count": 7,
   "metadata": {},
   "outputs": [],
   "source": [
    "# pip install pandas mysql-connector-python\n",
    "import mysql.connector\n",
    "import pandas as pd\n",
    "cnx = mysql.connector.connect (\n",
    "                                user='root',          # Usuário   \n",
    "                                password='senha123',  #  Senha\n",
    "                                host='localhost',     # Servidor MySQL\n",
    "                                database='sakila'     # Banco de dados\n",
    "                              )\n",
    "cursor = cnx.cursor()\n",
    "\n",
    "\n",
    "comando = '''\n",
    "DELETE FROM python.testepython;\n",
    "'''\n",
    "\n",
    "cursor.execute(comando)\n",
    "cnx.commit()\n",
    "\n",
    "cursor.close()  # Fecha o cursor\n",
    "cnx.close()     # Fecha conexão\n"
   ]
  },
  {
   "cell_type": "code",
   "execution_count": null,
   "metadata": {},
   "outputs": [],
   "source": []
  }
 ],
 "metadata": {
  "kernelspec": {
   "display_name": "sgbds",
   "language": "python",
   "name": "python3"
  },
  "language_info": {
   "codemirror_mode": {
    "name": "ipython",
    "version": 3
   },
   "file_extension": ".py",
   "mimetype": "text/x-python",
   "name": "python",
   "nbconvert_exporter": "python",
   "pygments_lexer": "ipython3",
   "version": "3.10.2"
  }
 },
 "nbformat": 4,
 "nbformat_minor": 2
}
