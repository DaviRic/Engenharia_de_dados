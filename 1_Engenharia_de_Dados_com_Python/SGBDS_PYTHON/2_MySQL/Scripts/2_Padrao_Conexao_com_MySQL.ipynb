{
 "cells": [
  {
   "cell_type": "code",
   "execution_count": 1,
   "metadata": {},
   "outputs": [],
   "source": [
    "# pip install pandas mysql-connector-python\n",
    "import mysql.connector\n",
    "cnx = mysql.connector.connect (\n",
    "                                user='root',          # Usuário   \n",
    "                                password='senha123',  #  Senha\n",
    "                                host='localhost',     # Servidor MySQL\n",
    "                                database='sakila'     # Banco de dados\n",
    "                              )\n",
    "\n",
    "cursor = cnx.cursor()   # Executa comandos de query, insert, delete, create, update, etc\n",
    "\n",
    "cursor.close()  # Fecha o cursor\n",
    "cnx.close()     # Fecha conexão"
   ]
  },
  {
   "cell_type": "code",
   "execution_count": null,
   "metadata": {},
   "outputs": [],
   "source": []
  }
 ],
 "metadata": {
  "kernelspec": {
   "display_name": "sgbds",
   "language": "python",
   "name": "python3"
  },
  "language_info": {
   "codemirror_mode": {
    "name": "ipython",
    "version": 3
   },
   "file_extension": ".py",
   "mimetype": "text/x-python",
   "name": "python",
   "nbconvert_exporter": "python",
   "pygments_lexer": "ipython3",
   "version": "3.10.2"
  }
 },
 "nbformat": 4,
 "nbformat_minor": 2
}
