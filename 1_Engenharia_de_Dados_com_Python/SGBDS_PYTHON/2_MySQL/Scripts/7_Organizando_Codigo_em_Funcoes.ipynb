{
 "cells": [
  {
   "cell_type": "code",
   "execution_count": 2,
   "metadata": {},
   "outputs": [],
   "source": [
    "import mysql.connector\n",
    "import pandas as pd\n",
    "\n",
    "def carga_categories(df_categories):\n",
    "\n",
    "    cnx = mysql.connector.connect (\n",
    "                                    user='root',          # Usuário   \n",
    "                                    password='senha123',  #  Senha\n",
    "                                    host='localhost',     # Servidor MySQL\n",
    "                                    database='python'     # Banco de dados\n",
    "                                )\n",
    "    cursor = cnx.cursor()\n",
    "\n",
    "    # Insere do dataframe no banco de dados\n",
    "    for _, df_categories_coluna in df_categories.iterrows():\n",
    "        \n",
    "        cursor.execute('SELECT category_id FROM python.categories WHERE category_id = %s', (df_categories_coluna['category_id'],))\n",
    "        result = cursor.fetchone()\n",
    "\n",
    "        if not result:\n",
    "            cursor.execute(\n",
    "            '''\n",
    "                INSERT INTO python.categories (category_id, category_name)\n",
    "                VALUES (%s, %s)\n",
    "            ''', (\n",
    "                df_categories_coluna['category_id'],\n",
    "                df_categories_coluna['category_name']\n",
    "                )\n",
    "            )\n",
    "\n",
    "    cnx.commit()\n",
    "    cursor.close()  # Fecha o cursor\n",
    "    cnx.close()     # Fecha conexão\n",
    "\n",
    "df_categories = pd.read_csv(r'C:\\Users\\Cliente\\Desktop\\Engenharia_de_dados_com_Python\\Arquivo_meu\\Origem_de_dados\\Bike\\categories.csv', sep=',')\n",
    "\n",
    "# Chamando a função\n",
    "carga_categories(df_categories)"
   ]
  }
 ],
 "metadata": {
  "kernelspec": {
   "display_name": "sgbds",
   "language": "python",
   "name": "python3"
  },
  "language_info": {
   "codemirror_mode": {
    "name": "ipython",
    "version": 3
   },
   "file_extension": ".py",
   "mimetype": "text/x-python",
   "name": "python",
   "nbconvert_exporter": "python",
   "pygments_lexer": "ipython3",
   "version": "3.10.2"
  }
 },
 "nbformat": 4,
 "nbformat_minor": 2
}
