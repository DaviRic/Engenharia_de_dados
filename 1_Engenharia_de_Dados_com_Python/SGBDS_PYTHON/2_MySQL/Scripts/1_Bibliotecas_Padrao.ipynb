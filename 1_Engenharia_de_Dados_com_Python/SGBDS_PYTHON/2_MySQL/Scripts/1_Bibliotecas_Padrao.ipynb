{
 "cells": [
  {
   "cell_type": "code",
   "execution_count": null,
   "metadata": {},
   "outputs": [],
   "source": [
    "'''\n",
    "# Para a conexão com banco de dados MySQL\n",
    "pip install mysql-connector-python\n",
    "\n",
    "# Fazer upgrade\n",
    "pip install mysql-connector-python --upgrade\n",
    "\n",
    "# Para trabalhar com arquivo excel\n",
    "pip install openpyxl\n",
    "\n",
    "# Para manipulação e análise de dados\n",
    "pip install pandas\n",
    "\n",
    "'''"
   ]
  }
 ],
 "metadata": {
  "language_info": {
   "name": "python"
  }
 },
 "nbformat": 4,
 "nbformat_minor": 2
}
