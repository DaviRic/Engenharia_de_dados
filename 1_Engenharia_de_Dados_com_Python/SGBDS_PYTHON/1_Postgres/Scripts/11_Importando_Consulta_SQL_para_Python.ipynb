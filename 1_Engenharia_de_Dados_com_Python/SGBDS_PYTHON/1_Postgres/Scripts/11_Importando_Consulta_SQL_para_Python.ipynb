{
 "cells": [
  {
   "cell_type": "markdown",
   "metadata": {},
   "source": [
    "#### Conexão psycopg2"
   ]
  },
  {
   "cell_type": "code",
   "execution_count": 6,
   "metadata": {},
   "outputs": [
    {
     "name": "stderr",
     "output_type": "stream",
     "text": [
      "C:\\Users\\Cliente\\AppData\\Local\\Temp\\ipykernel_13524\\2857275846.py:20: UserWarning: pandas only supports SQLAlchemy connectable (engine/connection) or database string URI or sqlite3 DBAPI2 connection. Other DBAPI2 objects are not tested. Please consider using SQLAlchemy.\n",
      "  df = pd.read_sql_query(query, conexao)\n"
     ]
    },
    {
     "data": {
      "text/html": [
       "<div>\n",
       "<style scoped>\n",
       "    .dataframe tbody tr th:only-of-type {\n",
       "        vertical-align: middle;\n",
       "    }\n",
       "\n",
       "    .dataframe tbody tr th {\n",
       "        vertical-align: top;\n",
       "    }\n",
       "\n",
       "    .dataframe thead th {\n",
       "        text-align: right;\n",
       "    }\n",
       "</style>\n",
       "<table border=\"1\" class=\"dataframe\">\n",
       "  <thead>\n",
       "    <tr style=\"text-align: right;\">\n",
       "      <th></th>\n",
       "      <th>id</th>\n",
       "      <th>dt_ocorrencia</th>\n",
       "      <th>uf</th>\n",
       "      <th>regiao</th>\n",
       "      <th>classificacao_da_ocorrencia</th>\n",
       "    </tr>\n",
       "  </thead>\n",
       "  <tbody>\n",
       "    <tr>\n",
       "      <th>0</th>\n",
       "      <td>25626</td>\n",
       "      <td>2020-10-08</td>\n",
       "      <td>MS</td>\n",
       "      <td>Centro-Oeste</td>\n",
       "      <td>Acidente</td>\n",
       "    </tr>\n",
       "    <tr>\n",
       "      <th>1</th>\n",
       "      <td>26304</td>\n",
       "      <td>2020-12-09</td>\n",
       "      <td>RS</td>\n",
       "      <td>Sul</td>\n",
       "      <td>Acidente</td>\n",
       "    </tr>\n",
       "    <tr>\n",
       "      <th>2</th>\n",
       "      <td>25763</td>\n",
       "      <td>2020-10-15</td>\n",
       "      <td>RJ</td>\n",
       "      <td>Sudeste</td>\n",
       "      <td>Acidente</td>\n",
       "    </tr>\n",
       "    <tr>\n",
       "      <th>3</th>\n",
       "      <td>26123</td>\n",
       "      <td>2020-11-19</td>\n",
       "      <td>PA</td>\n",
       "      <td>Norte</td>\n",
       "      <td>Acidente</td>\n",
       "    </tr>\n",
       "    <tr>\n",
       "      <th>4</th>\n",
       "      <td>5390</td>\n",
       "      <td>2003-12-09</td>\n",
       "      <td>Indeterminado</td>\n",
       "      <td>None</td>\n",
       "      <td>Acidente</td>\n",
       "    </tr>\n",
       "  </tbody>\n",
       "</table>\n",
       "</div>"
      ],
      "text/plain": [
       "      id dt_ocorrencia             uf        regiao  \\\n",
       "0  25626    2020-10-08             MS  Centro-Oeste   \n",
       "1  26304    2020-12-09             RS           Sul   \n",
       "2  25763    2020-10-15             RJ       Sudeste   \n",
       "3  26123    2020-11-19             PA         Norte   \n",
       "4   5390    2003-12-09  Indeterminado          None   \n",
       "\n",
       "  classificacao_da_ocorrencia  \n",
       "0                    Acidente  \n",
       "1                    Acidente  \n",
       "2                    Acidente  \n",
       "3                    Acidente  \n",
       "4                    Acidente  "
      ]
     },
     "execution_count": 6,
     "metadata": {},
     "output_type": "execute_result"
    }
   ],
   "source": [
    "import psycopg2\n",
    "import pandas as pd\n",
    "\n",
    "dbname   = 'python'\n",
    "user     = 'postgres'\n",
    "password = 'senha123'\n",
    "host     = 'localhost'\n",
    "port     = '5432'\n",
    "\n",
    "# 5°: Conexão com o postgre\n",
    "conexao = psycopg2.connect(dbname=dbname,\n",
    "                        user=user,\n",
    "                        password=password,\n",
    "                        host=host,\n",
    "                        port=port)\n",
    "\n",
    "query = \"SELECT id, dt_ocorrencia, uf, regiao, classificacao_da_ocorrencia FROM anac_mapeamento\"\n",
    "\n",
    "df = pd.read_sql_query(query, conexao)\n",
    "df.head(5)\n"
   ]
  },
  {
   "cell_type": "markdown",
   "metadata": {},
   "source": [
    "#### Conexão sqlalchemy"
   ]
  },
  {
   "cell_type": "code",
   "execution_count": 11,
   "metadata": {},
   "outputs": [
    {
     "data": {
      "text/html": [
       "<div>\n",
       "<style scoped>\n",
       "    .dataframe tbody tr th:only-of-type {\n",
       "        vertical-align: middle;\n",
       "    }\n",
       "\n",
       "    .dataframe tbody tr th {\n",
       "        vertical-align: top;\n",
       "    }\n",
       "\n",
       "    .dataframe thead th {\n",
       "        text-align: right;\n",
       "    }\n",
       "</style>\n",
       "<table border=\"1\" class=\"dataframe\">\n",
       "  <thead>\n",
       "    <tr style=\"text-align: right;\">\n",
       "      <th></th>\n",
       "      <th>id</th>\n",
       "      <th>dt_ocorrencia</th>\n",
       "      <th>uf</th>\n",
       "    </tr>\n",
       "  </thead>\n",
       "  <tbody>\n",
       "    <tr>\n",
       "      <th>0</th>\n",
       "      <td>25626</td>\n",
       "      <td>2020-10-08</td>\n",
       "      <td>MS</td>\n",
       "    </tr>\n",
       "    <tr>\n",
       "      <th>1</th>\n",
       "      <td>26304</td>\n",
       "      <td>2020-12-09</td>\n",
       "      <td>RS</td>\n",
       "    </tr>\n",
       "    <tr>\n",
       "      <th>2</th>\n",
       "      <td>25763</td>\n",
       "      <td>2020-10-15</td>\n",
       "      <td>RJ</td>\n",
       "    </tr>\n",
       "    <tr>\n",
       "      <th>3</th>\n",
       "      <td>26123</td>\n",
       "      <td>2020-11-19</td>\n",
       "      <td>PA</td>\n",
       "    </tr>\n",
       "    <tr>\n",
       "      <th>4</th>\n",
       "      <td>5390</td>\n",
       "      <td>2003-12-09</td>\n",
       "      <td>Indeterminado</td>\n",
       "    </tr>\n",
       "  </tbody>\n",
       "</table>\n",
       "</div>"
      ],
      "text/plain": [
       "      id dt_ocorrencia             uf\n",
       "0  25626    2020-10-08             MS\n",
       "1  26304    2020-12-09             RS\n",
       "2  25763    2020-10-15             RJ\n",
       "3  26123    2020-11-19             PA\n",
       "4   5390    2003-12-09  Indeterminado"
      ]
     },
     "execution_count": 11,
     "metadata": {},
     "output_type": "execute_result"
    }
   ],
   "source": [
    "from sqlalchemy import create_engine\n",
    "# Definições das variáveis para conectar com os bancos de dados\n",
    "dbname   = 'python'\n",
    "user     = 'postgres'\n",
    "password = 'senha123'\n",
    "host     = 'localhost'\n",
    "port     = '5432'\n",
    "\n",
    "conexao_str = f'postgresql://{user}:{password}@{host}:{port}/{dbname}'\n",
    "query_2 = \"SELECT id, dt_ocorrencia, uf FROM anac_mapeamento\"\n",
    "\n",
    "df_2 = pd.read_sql_query(query_2, conexao_str)\n",
    "df_2.head()"
   ]
  },
  {
   "cell_type": "code",
   "execution_count": null,
   "metadata": {},
   "outputs": [],
   "source": []
  }
 ],
 "metadata": {
  "kernelspec": {
   "display_name": "sgbds",
   "language": "python",
   "name": "python3"
  },
  "language_info": {
   "codemirror_mode": {
    "name": "ipython",
    "version": 3
   },
   "file_extension": ".py",
   "mimetype": "text/x-python",
   "name": "python",
   "nbconvert_exporter": "python",
   "pygments_lexer": "ipython3",
   "version": "3.10.2"
  }
 },
 "nbformat": 4,
 "nbformat_minor": 2
}
