{
 "cells": [
  {
   "cell_type": "code",
   "execution_count": 7,
   "metadata": {},
   "outputs": [],
   "source": [
    "import pandas as pd\n",
    "from sqlalchemy import create_engine, Integer, String, Date, VARCHAR, text\n",
    "from datetime import datetime"
   ]
  },
  {
   "cell_type": "code",
   "execution_count": 8,
   "metadata": {},
   "outputs": [],
   "source": [
    "pd.set_option('display.max_columns', None)\n",
    "caminho_do_arquivo = r\"C:\\Users\\Cliente\\Desktop\\Engenharia_de_dados_com_Python\\SGBDS_PYTHON\\Postgree\\V_OCORRENCIA_AMPLA.json\"\n",
    "df = pd.read_json(caminho_do_arquivo, encoding='utf-8')\n",
    "colunas = [\"Numero_da_Ocorrencia\", \"Classificacao_da_Ocorrencia\", \"Data_da_Ocorrencia\", \"Municipio\", \"UF\", \"Regiao\", \"Nome_do_Fabricante\", \"Modelo\"]\n",
    "df = df[colunas]"
   ]
  },
  {
   "cell_type": "code",
   "execution_count": 9,
   "metadata": {},
   "outputs": [
    {
     "data": {
      "text/plain": [
       "Numero_da_Ocorrencia            int64\n",
       "Classificacao_da_Ocorrencia    object\n",
       "Data_da_Ocorrencia             object\n",
       "Municipio                      object\n",
       "UF                             object\n",
       "Regiao                         object\n",
       "Nome_do_Fabricante             object\n",
       "Modelo                         object\n",
       "dtype: object"
      ]
     },
     "execution_count": 9,
     "metadata": {},
     "output_type": "execute_result"
    }
   ],
   "source": [
    "df.dtypes"
   ]
  },
  {
   "cell_type": "code",
   "execution_count": 10,
   "metadata": {},
   "outputs": [],
   "source": [
    "df[\"Data_da_Ocorrencia\"] = pd.to_datetime(df[\"Data_da_Ocorrencia\"]) # Convertendo para tipo data"
   ]
  },
  {
   "cell_type": "code",
   "execution_count": 11,
   "metadata": {},
   "outputs": [],
   "source": [
    "ano_atual = datetime.now().year\n",
    "df = df[df[\"Data_da_Ocorrencia\"].dt.year == ano_atual]"
   ]
  },
  {
   "cell_type": "code",
   "execution_count": 15,
   "metadata": {},
   "outputs": [],
   "source": [
    "# Definições das variáveis para conectar com os bancos de dados\n",
    "dbname   = 'python'\n",
    "user     = 'postgres'\n",
    "password = 'senha123'\n",
    "host     = 'localhost'\n",
    "port     = '5432'\n",
    "\n",
    "conexao_str = f'postgresql://{user}:{password}@{host}:{port}/{dbname}'\n",
    "\n",
    "engine = create_engine(conexao_str)\n",
    "nome_tabela = 'anac_sqlalchemy'\n",
    "\n",
    "# Deletar registros com base no ano atual\n",
    "cursor = engine.connect()\n",
    "delete = text(f'DELETE FROM {nome_tabela} WHERE EXTRACT (YEAR FROM \"Data_da_Ocorrencia\") = {ano_atual}')\n",
    "cursor.execute(delete)\n",
    "cursor.commit()\n",
    "\n",
    "df.to_sql(nome_tabela, engine, index=False, if_exists='append',\n",
    "          dtype={'Numero_da_Ocorrencia' : Integer,\n",
    "              'Classificacao_da_Ocorrencia' : VARCHAR(50),\n",
    "              'Data_da_Ocorrencia' : Date\n",
    "            })\n",
    "\n",
    "engine.dispose()\n",
    "cursor.close()"
   ]
  },
  {
   "cell_type": "code",
   "execution_count": null,
   "metadata": {},
   "outputs": [],
   "source": []
  }
 ],
 "metadata": {
  "kernelspec": {
   "display_name": "sgbds",
   "language": "python",
   "name": "python3"
  },
  "language_info": {
   "codemirror_mode": {
    "name": "ipython",
    "version": 3
   },
   "file_extension": ".py",
   "mimetype": "text/x-python",
   "name": "python",
   "nbconvert_exporter": "python",
   "pygments_lexer": "ipython3",
   "version": "3.10.2"
  }
 },
 "nbformat": 4,
 "nbformat_minor": 2
}
