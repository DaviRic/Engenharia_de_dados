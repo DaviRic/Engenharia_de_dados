{
 "cells": [
  {
   "cell_type": "code",
   "execution_count": 53,
   "metadata": {},
   "outputs": [],
   "source": [
    "import pandas as pd\n",
    "from sqlalchemy import create_engine, Integer, String, Date, VARCHAR, text"
   ]
  },
  {
   "cell_type": "code",
   "execution_count": 54,
   "metadata": {},
   "outputs": [],
   "source": [
    "pd.set_option('display.max_columns', None)\n",
    "caminho_do_arquivo = r\"C:\\Users\\Cliente\\Desktop\\Engenharia_de_dados_com_Python\\SGBDS_PYTHON\\Postgree\\V_OCORRENCIA_AMPLA.json\"\n",
    "df = pd.read_json(caminho_do_arquivo, encoding='utf-8')\n",
    "colunas = [\"Numero_da_Ocorrencia\", \"Classificacao_da_Ocorrencia\", \"Data_da_Ocorrencia\", \"Municipio\", \"UF\", \"Regiao\", \"Nome_do_Fabricante\", \"Modelo\"]\n",
    "df = df[colunas]"
   ]
  },
  {
   "cell_type": "code",
   "execution_count": 55,
   "metadata": {},
   "outputs": [
    {
     "data": {
      "text/plain": [
       "(5021, 8)"
      ]
     },
     "execution_count": 55,
     "metadata": {},
     "output_type": "execute_result"
    }
   ],
   "source": [
    "df.shape"
   ]
  },
  {
   "cell_type": "code",
   "execution_count": 56,
   "metadata": {},
   "outputs": [
    {
     "name": "stdout",
     "output_type": "stream",
     "text": [
      "2024-05-31\n"
     ]
    }
   ],
   "source": [
    "from datetime import datetime, timedelta\n",
    "\n",
    "# Método 1: Não leva em consideração a variação nos númerosde dias em casa mês, resultando em uma aproximação\n",
    "data_atual = datetime.now()\n",
    "data_ha_3_meses = data_atual - timedelta(days=90)\n",
    "data_ha_3_meses_apenas_data = data_ha_3_meses.date()\n",
    "\n",
    "print(data_ha_3_meses_apenas_data)"
   ]
  },
  {
   "cell_type": "code",
   "execution_count": 57,
   "metadata": {},
   "outputs": [
    {
     "name": "stdout",
     "output_type": "stream",
     "text": [
      "2024-05-29\n"
     ]
    }
   ],
   "source": [
    "from datetime import datetime, timedelta\n",
    "from dateutil.relativedelta import relativedelta\n",
    "\n",
    "# Método 2: leva em consideração a variação nos números de dias em cada mês, fornecendo um resultado mais preciso\n",
    "data_atual_2 = datetime.now()\n",
    "d_menos_3m = data_atual_2 - relativedelta(months=3)\n",
    "dt_d_menos3m = d_menos_3m.date()\n",
    "\n",
    "print(dt_d_menos3m)"
   ]
  },
  {
   "cell_type": "code",
   "execution_count": 58,
   "metadata": {},
   "outputs": [],
   "source": [
    "df['Data_da_Ocorrencia'] = pd.to_datetime(df['Data_da_Ocorrencia'])\n",
    "data_ha_3_meses_apenas_data = pd.to_datetime(data_ha_3_meses_apenas_data)\n",
    "dt_d_menos3m = pd.to_datetime(dt_d_menos3m)"
   ]
  },
  {
   "cell_type": "code",
   "execution_count": 59,
   "metadata": {},
   "outputs": [],
   "source": [
    "df = df[df['Data_da_Ocorrencia'] >= dt_d_menos3m]"
   ]
  },
  {
   "cell_type": "code",
   "execution_count": 60,
   "metadata": {},
   "outputs": [
    {
     "name": "stdout",
     "output_type": "stream",
     "text": [
      "2024-05-29\n"
     ]
    }
   ],
   "source": [
    "dt_d_menos3m = dt_d_menos3m.date()\n",
    "print(dt_d_menos3m)"
   ]
  },
  {
   "cell_type": "code",
   "execution_count": 61,
   "metadata": {},
   "outputs": [
    {
     "data": {
      "text/plain": [
       "27"
      ]
     },
     "execution_count": 61,
     "metadata": {},
     "output_type": "execute_result"
    }
   ],
   "source": [
    "df.shape[0]"
   ]
  },
  {
   "cell_type": "code",
   "execution_count": 62,
   "metadata": {},
   "outputs": [],
   "source": [
    "# Definições das variáveis para conectar com os bancos de dados\n",
    "dbname   = 'python'\n",
    "user     = 'postgres'\n",
    "password = 'senha123'\n",
    "host     = 'localhost'\n",
    "port     = '5432'\n",
    "\n",
    "conexao_str = f'postgresql://{user}:{password}@{host}:{port}/{dbname}'\n",
    "\n",
    "engine = create_engine(conexao_str)\n",
    "nome_tabela = 'anac_sqlalchemy'\n",
    "\n",
    "# Deletar registros com base no ano atual\n",
    "cursor = engine.connect()\n",
    "delete = text(f'''\n",
    "              DELETE FROM {nome_tabela}\n",
    "              WHERE \"Data_da_Ocorrencia\" >= '{dt_d_menos3m}'\n",
    "              ''')\n",
    "\n",
    "cursor.execute(delete)\n",
    "cursor.commit()\n",
    "\n",
    "df.to_sql(nome_tabela, engine, index=False, if_exists='append',\n",
    "          dtype={'Numero_da_Ocorrencia' : Integer,\n",
    "              'Classificacao_da_Ocorrencia' : VARCHAR(50),\n",
    "              'Data_da_Ocorrencia' : Date\n",
    "            })\n",
    "\n",
    "engine.dispose()\n",
    "cursor.close()"
   ]
  },
  {
   "cell_type": "code",
   "execution_count": null,
   "metadata": {},
   "outputs": [],
   "source": []
  }
 ],
 "metadata": {
  "kernelspec": {
   "display_name": "sgbds",
   "language": "python",
   "name": "python3"
  },
  "language_info": {
   "codemirror_mode": {
    "name": "ipython",
    "version": 3
   },
   "file_extension": ".py",
   "mimetype": "text/x-python",
   "name": "python",
   "nbconvert_exporter": "python",
   "pygments_lexer": "ipython3",
   "version": "3.10.2"
  }
 },
 "nbformat": 4,
 "nbformat_minor": 2
}
