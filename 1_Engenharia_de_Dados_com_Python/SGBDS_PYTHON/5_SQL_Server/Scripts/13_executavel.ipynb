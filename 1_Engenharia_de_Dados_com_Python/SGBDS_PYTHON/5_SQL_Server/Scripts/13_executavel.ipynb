{
 "cells": [
  {
   "cell_type": "markdown",
   "metadata": {},
   "source": [
    "pip install pyinstaller\n",
    "pip install --upgrade pyinstaller\n",
    "\n",
    "Em caso de erro ssl -> pip install --trusted-host pypi.org --trusted-host files.pythonhosted.org pyinstaller\n",
    "\n",
    "Modo oculto no windows (noconsole) adicionar isso antes do nome do arquivo\n",
    "\n",
    "pyinstaller --onefile --noconsole caminho_do_arquivo_py\n",
    "\n",
    "inserir via interface gráfica\n",
    "pip install auto-py-to-exe\n",
    "pip install -U auto-py-to-exe - Inserir para upgrade\n",
    "auto-py-to-exe - Digitar no prompt de comando"
   ]
  }
 ],
 "metadata": {
  "kernelspec": {
   "display_name": "venv",
   "language": "python",
   "name": "python3"
  },
  "language_info": {
   "name": "python",
   "version": "3.10.2"
  }
 },
 "nbformat": 4,
 "nbformat_minor": 2
}
