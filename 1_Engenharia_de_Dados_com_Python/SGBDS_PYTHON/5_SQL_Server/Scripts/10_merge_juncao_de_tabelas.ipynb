{
 "cells": [
  {
   "cell_type": "code",
   "execution_count": 2,
   "metadata": {},
   "outputs": [],
   "source": [
    "import pandas as pd\n",
    "import pyodbc\n",
    "\n",
    "server = 'DESKTOP-1Q56108' # Nome do servidor SQL Server\n",
    "database = 'Python'        # Nome do banco de dados\n",
    "conexaoDB = pyodbc.connect('DRIVER={ODBC Driver 18 for SQL Server};'f'SERVER={server};'f'DATABASE={database};''Trusted_Connection=yes;')\n",
    "cursor = conexaoDB.cursor() # criando o cursor de comando para executar as consultas (queries)"
   ]
  },
  {
   "cell_type": "code",
   "execution_count": 3,
   "metadata": {},
   "outputs": [],
   "source": [
    "Produtos = pd.read_excel(r'C:\\Users\\Cliente\\Desktop\\Engenharia_de_dados_com_Python\\SGBDS_PYTHON\\4_ETL Pandas\\arquivos_excel\\Produto.xlsx')\n",
    "Categoria = pd.read_excel(r'C:\\Users\\Cliente\\Desktop\\Engenharia_de_dados_com_Python\\SGBDS_PYTHON\\4_ETL Pandas\\arquivos_excel\\Categoria.xlsx')\n",
    "Itens = pd.read_excel(r'C:\\Users\\Cliente\\Desktop\\Engenharia_de_dados_com_Python\\SGBDS_PYTHON\\4_ETL Pandas\\arquivos_excel\\items.xlsx')\n",
    "Ordens = pd.read_excel(r'C:\\Users\\Cliente\\Desktop\\Engenharia_de_dados_com_Python\\SGBDS_PYTHON\\4_ETL Pandas\\arquivos_excel\\Ordens.xlsx')\n",
    "Clientes = pd.read_csv(r'C:\\Users\\Cliente\\Desktop\\Engenharia_de_dados_com_Python\\SGBDS_PYTHON\\4_ETL Pandas\\arquivos_csv\\Clientes.csv', delimiter=',')"
   ]
  },
  {
   "cell_type": "code",
   "execution_count": 6,
   "metadata": {},
   "outputs": [
    {
     "data": {
      "text/html": [
       "<div>\n",
       "<style scoped>\n",
       "    .dataframe tbody tr th:only-of-type {\n",
       "        vertical-align: middle;\n",
       "    }\n",
       "\n",
       "    .dataframe tbody tr th {\n",
       "        vertical-align: top;\n",
       "    }\n",
       "\n",
       "    .dataframe thead th {\n",
       "        text-align: right;\n",
       "    }\n",
       "</style>\n",
       "<table border=\"1\" class=\"dataframe\">\n",
       "  <thead>\n",
       "    <tr style=\"text-align: right;\">\n",
       "      <th></th>\n",
       "      <th>id</th>\n",
       "      <th>created_at</th>\n",
       "      <th>customer_id</th>\n",
       "      <th>status</th>\n",
       "    </tr>\n",
       "  </thead>\n",
       "  <tbody>\n",
       "    <tr>\n",
       "      <th>0</th>\n",
       "      <td>0</td>\n",
       "      <td>2019-08-28 03:36:31</td>\n",
       "      <td>91</td>\n",
       "      <td>entregue</td>\n",
       "    </tr>\n",
       "  </tbody>\n",
       "</table>\n",
       "</div>"
      ],
      "text/plain": [
       "   id          created_at  customer_id    status\n",
       "0   0 2019-08-28 03:36:31           91  entregue"
      ]
     },
     "execution_count": 6,
     "metadata": {},
     "output_type": "execute_result"
    }
   ],
   "source": [
    "Ordens.head(1)"
   ]
  },
  {
   "cell_type": "code",
   "execution_count": 7,
   "metadata": {},
   "outputs": [
    {
     "data": {
      "text/html": [
       "<div>\n",
       "<style scoped>\n",
       "    .dataframe tbody tr th:only-of-type {\n",
       "        vertical-align: middle;\n",
       "    }\n",
       "\n",
       "    .dataframe tbody tr th {\n",
       "        vertical-align: top;\n",
       "    }\n",
       "\n",
       "    .dataframe thead th {\n",
       "        text-align: right;\n",
       "    }\n",
       "</style>\n",
       "<table border=\"1\" class=\"dataframe\">\n",
       "  <thead>\n",
       "    <tr style=\"text-align: right;\">\n",
       "      <th></th>\n",
       "      <th>id</th>\n",
       "      <th>created_at</th>\n",
       "      <th>first_name</th>\n",
       "      <th>last_name</th>\n",
       "      <th>email</th>\n",
       "      <th>cell_phone</th>\n",
       "      <th>country</th>\n",
       "      <th>state</th>\n",
       "      <th>street</th>\n",
       "      <th>number</th>\n",
       "      <th>additionals</th>\n",
       "    </tr>\n",
       "  </thead>\n",
       "  <tbody>\n",
       "    <tr>\n",
       "      <th>0</th>\n",
       "      <td>0</td>\n",
       "      <td>2017-11-01 14:45:41</td>\n",
       "      <td>Marta</td>\n",
       "      <td>Jesus</td>\n",
       "      <td>NaN</td>\n",
       "      <td>9 9102-7834</td>\n",
       "      <td>Brasil</td>\n",
       "      <td>Acre</td>\n",
       "      <td>NaN</td>\n",
       "      <td>NaN</td>\n",
       "      <td>Conjunto 16</td>\n",
       "    </tr>\n",
       "  </tbody>\n",
       "</table>\n",
       "</div>"
      ],
      "text/plain": [
       "   id           created_at first_name last_name email   cell_phone country  \\\n",
       "0   0  2017-11-01 14:45:41      Marta     Jesus   NaN  9 9102-7834  Brasil   \n",
       "\n",
       "  state street  number  additionals  \n",
       "0  Acre    NaN     NaN  Conjunto 16  "
      ]
     },
     "execution_count": 7,
     "metadata": {},
     "output_type": "execute_result"
    }
   ],
   "source": [
    "Clientes.head(1)"
   ]
  },
  {
   "cell_type": "code",
   "execution_count": 4,
   "metadata": {},
   "outputs": [],
   "source": [
    "T1 = pd.merge(Ordens, Clientes, left_on=\"customer_id\", right_on=\"id\", how=\"left\")\n",
    "\n",
    "# Left join -> faz um join entre a tabela da esquerda e a tabela da direita conservando todos os dados da tabela da esquerda\n",
    "# Right join -> faz um join entre a tabela da esquerda e a tabela da direita conservando todos os dados da tabela da direita\n",
    "# Inner -> retorna os dados apenas quando as duas tabelas tem chaves correspondentes\n",
    "# Outer -> retorna todos os registros das duas tabelas"
   ]
  },
  {
   "cell_type": "code",
   "execution_count": 11,
   "metadata": {},
   "outputs": [
    {
     "data": {
      "text/html": [
       "<div>\n",
       "<style scoped>\n",
       "    .dataframe tbody tr th:only-of-type {\n",
       "        vertical-align: middle;\n",
       "    }\n",
       "\n",
       "    .dataframe tbody tr th {\n",
       "        vertical-align: top;\n",
       "    }\n",
       "\n",
       "    .dataframe thead th {\n",
       "        text-align: right;\n",
       "    }\n",
       "</style>\n",
       "<table border=\"1\" class=\"dataframe\">\n",
       "  <thead>\n",
       "    <tr style=\"text-align: right;\">\n",
       "      <th></th>\n",
       "      <th>id_x</th>\n",
       "      <th>created_at_x</th>\n",
       "      <th>customer_id</th>\n",
       "      <th>status</th>\n",
       "      <th>id_y</th>\n",
       "      <th>created_at_y</th>\n",
       "      <th>first_name</th>\n",
       "      <th>last_name</th>\n",
       "      <th>email</th>\n",
       "      <th>cell_phone</th>\n",
       "      <th>country</th>\n",
       "      <th>state</th>\n",
       "      <th>street</th>\n",
       "      <th>number</th>\n",
       "      <th>additionals</th>\n",
       "    </tr>\n",
       "  </thead>\n",
       "  <tbody>\n",
       "    <tr>\n",
       "      <th>0</th>\n",
       "      <td>0</td>\n",
       "      <td>2019-08-28 03:36:31</td>\n",
       "      <td>91</td>\n",
       "      <td>entregue</td>\n",
       "      <td>91</td>\n",
       "      <td>2018-09-12 22:12:05</td>\n",
       "      <td>Daniel</td>\n",
       "      <td>Costa</td>\n",
       "      <td>daniel@teste.com</td>\n",
       "      <td>9 4761-6557</td>\n",
       "      <td>Brasil</td>\n",
       "      <td>Rio Grande do Norte</td>\n",
       "      <td>Praça 25 do Estado Rio Grande do Norte</td>\n",
       "      <td>281.0</td>\n",
       "      <td>Apto 8</td>\n",
       "    </tr>\n",
       "  </tbody>\n",
       "</table>\n",
       "</div>"
      ],
      "text/plain": [
       "   id_x        created_at_x  customer_id    status  id_y         created_at_y  \\\n",
       "0     0 2019-08-28 03:36:31           91  entregue    91  2018-09-12 22:12:05   \n",
       "\n",
       "  first_name last_name             email   cell_phone country  \\\n",
       "0     Daniel     Costa  daniel@teste.com  9 4761-6557  Brasil   \n",
       "\n",
       "                 state                                  street  number  \\\n",
       "0  Rio Grande do Norte  Praça 25 do Estado Rio Grande do Norte   281.0   \n",
       "\n",
       "  additionals  \n",
       "0      Apto 8  "
      ]
     },
     "execution_count": 11,
     "metadata": {},
     "output_type": "execute_result"
    }
   ],
   "source": [
    "T1.head(1)"
   ]
  },
  {
   "cell_type": "code",
   "execution_count": 5,
   "metadata": {},
   "outputs": [
    {
     "data": {
      "text/html": [
       "<div>\n",
       "<style scoped>\n",
       "    .dataframe tbody tr th:only-of-type {\n",
       "        vertical-align: middle;\n",
       "    }\n",
       "\n",
       "    .dataframe tbody tr th {\n",
       "        vertical-align: top;\n",
       "    }\n",
       "\n",
       "    .dataframe thead th {\n",
       "        text-align: right;\n",
       "    }\n",
       "</style>\n",
       "<table border=\"1\" class=\"dataframe\">\n",
       "  <thead>\n",
       "    <tr style=\"text-align: right;\">\n",
       "      <th></th>\n",
       "      <th>id_x</th>\n",
       "      <th>created_at_x</th>\n",
       "      <th>first_name</th>\n",
       "      <th>cell_phone</th>\n",
       "      <th>state</th>\n",
       "    </tr>\n",
       "  </thead>\n",
       "  <tbody>\n",
       "    <tr>\n",
       "      <th>0</th>\n",
       "      <td>0</td>\n",
       "      <td>2019-08-28 03:36:31</td>\n",
       "      <td>Daniel</td>\n",
       "      <td>9 4761-6557</td>\n",
       "      <td>Rio Grande do Norte</td>\n",
       "    </tr>\n",
       "  </tbody>\n",
       "</table>\n",
       "</div>"
      ],
      "text/plain": [
       "   id_x        created_at_x first_name   cell_phone                state\n",
       "0     0 2019-08-28 03:36:31     Daniel  9 4761-6557  Rio Grande do Norte"
      ]
     },
     "execution_count": 5,
     "metadata": {},
     "output_type": "execute_result"
    }
   ],
   "source": [
    "T1 = T1[[\"id_x\", \"created_at_x\", \"first_name\", \"cell_phone\", \"state\"]]\n",
    "T1.head(1)"
   ]
  },
  {
   "cell_type": "code",
   "execution_count": 6,
   "metadata": {},
   "outputs": [
    {
     "data": {
      "text/html": [
       "<div>\n",
       "<style scoped>\n",
       "    .dataframe tbody tr th:only-of-type {\n",
       "        vertical-align: middle;\n",
       "    }\n",
       "\n",
       "    .dataframe tbody tr th {\n",
       "        vertical-align: top;\n",
       "    }\n",
       "\n",
       "    .dataframe thead th {\n",
       "        text-align: right;\n",
       "    }\n",
       "</style>\n",
       "<table border=\"1\" class=\"dataframe\">\n",
       "  <thead>\n",
       "    <tr style=\"text-align: right;\">\n",
       "      <th></th>\n",
       "      <th>id</th>\n",
       "      <th>order_id</th>\n",
       "      <th>product_id</th>\n",
       "      <th>quantity</th>\n",
       "      <th>total_price</th>\n",
       "      <th>ID</th>\n",
       "      <th>Name</th>\n",
       "      <th>Price</th>\n",
       "      <th>Id_Category</th>\n",
       "    </tr>\n",
       "  </thead>\n",
       "  <tbody>\n",
       "    <tr>\n",
       "      <th>0</th>\n",
       "      <td>0</td>\n",
       "      <td>7019</td>\n",
       "      <td>28</td>\n",
       "      <td>1</td>\n",
       "      <td>186</td>\n",
       "      <td>28</td>\n",
       "      <td>Impressora</td>\n",
       "      <td>186</td>\n",
       "      <td>5</td>\n",
       "    </tr>\n",
       "  </tbody>\n",
       "</table>\n",
       "</div>"
      ],
      "text/plain": [
       "   id  order_id  product_id  quantity  total_price  ID        Name  Price  \\\n",
       "0   0      7019          28         1          186  28  Impressora    186   \n",
       "\n",
       "   Id_Category  \n",
       "0            5  "
      ]
     },
     "execution_count": 6,
     "metadata": {},
     "output_type": "execute_result"
    }
   ],
   "source": [
    "T2 = pd.merge(Itens, Produtos, left_on=\"product_id\", right_on=\"ID\", how=\"left\")\n",
    "T2.head(1)"
   ]
  },
  {
   "cell_type": "code",
   "execution_count": 8,
   "metadata": {},
   "outputs": [
    {
     "data": {
      "text/html": [
       "<div>\n",
       "<style scoped>\n",
       "    .dataframe tbody tr th:only-of-type {\n",
       "        vertical-align: middle;\n",
       "    }\n",
       "\n",
       "    .dataframe tbody tr th {\n",
       "        vertical-align: top;\n",
       "    }\n",
       "\n",
       "    .dataframe thead th {\n",
       "        text-align: right;\n",
       "    }\n",
       "</style>\n",
       "<table border=\"1\" class=\"dataframe\">\n",
       "  <thead>\n",
       "    <tr style=\"text-align: right;\">\n",
       "      <th></th>\n",
       "      <th>id</th>\n",
       "      <th>Name</th>\n",
       "      <th>Id_Category</th>\n",
       "    </tr>\n",
       "  </thead>\n",
       "  <tbody>\n",
       "    <tr>\n",
       "      <th>0</th>\n",
       "      <td>0</td>\n",
       "      <td>Impressora</td>\n",
       "      <td>5</td>\n",
       "    </tr>\n",
       "    <tr>\n",
       "      <th>1</th>\n",
       "      <td>1</td>\n",
       "      <td>HD Externo</td>\n",
       "      <td>5</td>\n",
       "    </tr>\n",
       "    <tr>\n",
       "      <th>2</th>\n",
       "      <td>2</td>\n",
       "      <td>PC</td>\n",
       "      <td>7</td>\n",
       "    </tr>\n",
       "  </tbody>\n",
       "</table>\n",
       "</div>"
      ],
      "text/plain": [
       "   id        Name  Id_Category\n",
       "0   0  Impressora            5\n",
       "1   1  HD Externo            5\n",
       "2   2          PC            7"
      ]
     },
     "execution_count": 8,
     "metadata": {},
     "output_type": "execute_result"
    }
   ],
   "source": [
    "# Escolhi só as colunas que me importam\n",
    "T2 = T2[[\"id\", \"Name\", \"Id_Category\"]]\n",
    "T2.head(3)"
   ]
  },
  {
   "cell_type": "code",
   "execution_count": 9,
   "metadata": {},
   "outputs": [
    {
     "data": {
      "text/html": [
       "<div>\n",
       "<style scoped>\n",
       "    .dataframe tbody tr th:only-of-type {\n",
       "        vertical-align: middle;\n",
       "    }\n",
       "\n",
       "    .dataframe tbody tr th {\n",
       "        vertical-align: top;\n",
       "    }\n",
       "\n",
       "    .dataframe thead th {\n",
       "        text-align: right;\n",
       "    }\n",
       "</style>\n",
       "<table border=\"1\" class=\"dataframe\">\n",
       "  <thead>\n",
       "    <tr style=\"text-align: right;\">\n",
       "      <th></th>\n",
       "      <th>id_x</th>\n",
       "      <th>Name</th>\n",
       "      <th>Id_Category</th>\n",
       "      <th>id_y</th>\n",
       "      <th>nome</th>\n",
       "    </tr>\n",
       "  </thead>\n",
       "  <tbody>\n",
       "    <tr>\n",
       "      <th>0</th>\n",
       "      <td>0</td>\n",
       "      <td>Impressora</td>\n",
       "      <td>5</td>\n",
       "      <td>5</td>\n",
       "      <td>Informática</td>\n",
       "    </tr>\n",
       "    <tr>\n",
       "      <th>1</th>\n",
       "      <td>1</td>\n",
       "      <td>HD Externo</td>\n",
       "      <td>5</td>\n",
       "      <td>5</td>\n",
       "      <td>Informática</td>\n",
       "    </tr>\n",
       "    <tr>\n",
       "      <th>2</th>\n",
       "      <td>2</td>\n",
       "      <td>PC</td>\n",
       "      <td>7</td>\n",
       "      <td>7</td>\n",
       "      <td>Eletrônicos</td>\n",
       "    </tr>\n",
       "    <tr>\n",
       "      <th>3</th>\n",
       "      <td>3</td>\n",
       "      <td>Notebook</td>\n",
       "      <td>7</td>\n",
       "      <td>7</td>\n",
       "      <td>Eletrônicos</td>\n",
       "    </tr>\n",
       "    <tr>\n",
       "      <th>4</th>\n",
       "      <td>4</td>\n",
       "      <td>Impressora</td>\n",
       "      <td>5</td>\n",
       "      <td>5</td>\n",
       "      <td>Informática</td>\n",
       "    </tr>\n",
       "  </tbody>\n",
       "</table>\n",
       "</div>"
      ],
      "text/plain": [
       "   id_x        Name  Id_Category  id_y         nome\n",
       "0     0  Impressora            5     5  Informática\n",
       "1     1  HD Externo            5     5  Informática\n",
       "2     2          PC            7     7  Eletrônicos\n",
       "3     3    Notebook            7     7  Eletrônicos\n",
       "4     4  Impressora            5     5  Informática"
      ]
     },
     "execution_count": 9,
     "metadata": {},
     "output_type": "execute_result"
    }
   ],
   "source": [
    "categoria_prod = pd.merge(T2, Categoria, left_on=\"Id_Category\", right_on=\"id\", how=\"left\")\n",
    "categoria_prod.head(5)"
   ]
  },
  {
   "cell_type": "code",
   "execution_count": 10,
   "metadata": {},
   "outputs": [
    {
     "data": {
      "text/html": [
       "<div>\n",
       "<style scoped>\n",
       "    .dataframe tbody tr th:only-of-type {\n",
       "        vertical-align: middle;\n",
       "    }\n",
       "\n",
       "    .dataframe tbody tr th {\n",
       "        vertical-align: top;\n",
       "    }\n",
       "\n",
       "    .dataframe thead th {\n",
       "        text-align: right;\n",
       "    }\n",
       "</style>\n",
       "<table border=\"1\" class=\"dataframe\">\n",
       "  <thead>\n",
       "    <tr style=\"text-align: right;\">\n",
       "      <th></th>\n",
       "      <th>id_x</th>\n",
       "      <th>Name</th>\n",
       "      <th>Id_Category</th>\n",
       "      <th>nome</th>\n",
       "    </tr>\n",
       "  </thead>\n",
       "  <tbody>\n",
       "    <tr>\n",
       "      <th>0</th>\n",
       "      <td>0</td>\n",
       "      <td>Impressora</td>\n",
       "      <td>5</td>\n",
       "      <td>Informática</td>\n",
       "    </tr>\n",
       "    <tr>\n",
       "      <th>1</th>\n",
       "      <td>1</td>\n",
       "      <td>HD Externo</td>\n",
       "      <td>5</td>\n",
       "      <td>Informática</td>\n",
       "    </tr>\n",
       "    <tr>\n",
       "      <th>2</th>\n",
       "      <td>2</td>\n",
       "      <td>PC</td>\n",
       "      <td>7</td>\n",
       "      <td>Eletrônicos</td>\n",
       "    </tr>\n",
       "    <tr>\n",
       "      <th>3</th>\n",
       "      <td>3</td>\n",
       "      <td>Notebook</td>\n",
       "      <td>7</td>\n",
       "      <td>Eletrônicos</td>\n",
       "    </tr>\n",
       "    <tr>\n",
       "      <th>4</th>\n",
       "      <td>4</td>\n",
       "      <td>Impressora</td>\n",
       "      <td>5</td>\n",
       "      <td>Informática</td>\n",
       "    </tr>\n",
       "  </tbody>\n",
       "</table>\n",
       "</div>"
      ],
      "text/plain": [
       "   id_x        Name  Id_Category         nome\n",
       "0     0  Impressora            5  Informática\n",
       "1     1  HD Externo            5  Informática\n",
       "2     2          PC            7  Eletrônicos\n",
       "3     3    Notebook            7  Eletrônicos\n",
       "4     4  Impressora            5  Informática"
      ]
     },
     "execution_count": 10,
     "metadata": {},
     "output_type": "execute_result"
    }
   ],
   "source": [
    "categoria_prod = categoria_prod[[\"id_x\", \"Name\", \"Id_Category\", \"nome\"]]\n",
    "categoria_prod.head(5)"
   ]
  },
  {
   "cell_type": "code",
   "execution_count": null,
   "metadata": {},
   "outputs": [],
   "source": []
  }
 ],
 "metadata": {
  "kernelspec": {
   "display_name": "venv",
   "language": "python",
   "name": "python3"
  },
  "language_info": {
   "codemirror_mode": {
    "name": "ipython",
    "version": 3
   },
   "file_extension": ".py",
   "mimetype": "text/x-python",
   "name": "python",
   "nbconvert_exporter": "python",
   "pygments_lexer": "ipython3",
   "version": "3.10.2"
  }
 },
 "nbformat": 4,
 "nbformat_minor": 2
}
