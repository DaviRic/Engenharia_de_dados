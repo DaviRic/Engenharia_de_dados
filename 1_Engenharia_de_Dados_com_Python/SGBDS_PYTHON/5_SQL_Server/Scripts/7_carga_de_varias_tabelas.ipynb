{
 "cells": [
  {
   "cell_type": "code",
   "execution_count": 5,
   "metadata": {},
   "outputs": [],
   "source": [
    "import pandas as pd\n",
    "import pyodbc\n",
    "\n",
    "server = 'DESKTOP-1Q56108' # Nome do servidor SQL Server\n",
    "database = 'Python'        # Nome do banco de dados\n",
    "conexaoDB = pyodbc.connect('DRIVER={ODBC Driver 17 for SQL Server};'f'SERVER={server};'f'DATABASE={database};''Trusted_Connection=yes;')\n",
    "cursor = conexaoDB.cursor() # criando o cursor de comando para executar as consultas (queries)"
   ]
  },
  {
   "cell_type": "markdown",
   "metadata": {},
   "source": [
    "#### Importação dos dataframes"
   ]
  },
  {
   "cell_type": "code",
   "execution_count": 6,
   "metadata": {},
   "outputs": [],
   "source": [
    "Produtos = pd.read_excel(r'C:\\Users\\Cliente\\Desktop\\Engenharia_de_dados_com_Python\\SGBDS_PYTHON\\4_ETL Pandas\\arquivos_excel\\Produto.xlsx')\n",
    "Categoria = pd.read_excel(r'C:\\Users\\Cliente\\Desktop\\Engenharia_de_dados_com_Python\\SGBDS_PYTHON\\4_ETL Pandas\\arquivos_excel\\Categoria.xlsx')\n",
    "Itens = pd.read_excel(r'C:\\Users\\Cliente\\Desktop\\Engenharia_de_dados_com_Python\\SGBDS_PYTHON\\4_ETL Pandas\\arquivos_excel\\items.xlsx')\n",
    "Ordens = pd.read_excel(r'C:\\Users\\Cliente\\Desktop\\Engenharia_de_dados_com_Python\\SGBDS_PYTHON\\4_ETL Pandas\\arquivos_excel\\Ordens.xlsx')\n",
    "Clientes = pd.read_csv(r'C:\\Users\\Cliente\\Desktop\\Engenharia_de_dados_com_Python\\SGBDS_PYTHON\\4_ETL Pandas\\arquivos_csv\\Clientes.csv')"
   ]
  },
  {
   "cell_type": "markdown",
   "metadata": {},
   "source": [
    "#### Deletando os dados de todas as tabelas"
   ]
  },
  {
   "cell_type": "code",
   "execution_count": 7,
   "metadata": {},
   "outputs": [],
   "source": [
    "cursor.execute(\"\"\"\n",
    "TRUNCATE TABLE [dbo].[Categoria];\n",
    "TRUNCATE TABLE [dbo].[Ordens];\n",
    "TRUNCATE TABLE [dbo].[Itens];\n",
    "TRUNCATE TABLE [dbo].[Produtos];\n",
    "TRUNCATE TABLE [dbo].[Clientes];\n",
    "\"\"\")\n",
    "cursor.commit() # Validar os dados do SQL Server para não bloquear o usuário"
   ]
  },
  {
   "cell_type": "markdown",
   "metadata": {},
   "source": [
    "#### Inserção dos dados"
   ]
  },
  {
   "cell_type": "code",
   "execution_count": 8,
   "metadata": {},
   "outputs": [
    {
     "data": {
      "text/html": [
       "<div>\n",
       "<style scoped>\n",
       "    .dataframe tbody tr th:only-of-type {\n",
       "        vertical-align: middle;\n",
       "    }\n",
       "\n",
       "    .dataframe tbody tr th {\n",
       "        vertical-align: top;\n",
       "    }\n",
       "\n",
       "    .dataframe thead th {\n",
       "        text-align: right;\n",
       "    }\n",
       "</style>\n",
       "<table border=\"1\" class=\"dataframe\">\n",
       "  <thead>\n",
       "    <tr style=\"text-align: right;\">\n",
       "      <th></th>\n",
       "      <th>ID</th>\n",
       "      <th>Name</th>\n",
       "      <th>Price</th>\n",
       "      <th>Id_Category</th>\n",
       "    </tr>\n",
       "  </thead>\n",
       "  <tbody>\n",
       "    <tr>\n",
       "      <th>0</th>\n",
       "      <td>0</td>\n",
       "      <td>Sapato vermelho</td>\n",
       "      <td>96</td>\n",
       "      <td>0</td>\n",
       "    </tr>\n",
       "    <tr>\n",
       "      <th>1</th>\n",
       "      <td>1</td>\n",
       "      <td>Bolsa mais que Velha</td>\n",
       "      <td>8000</td>\n",
       "      <td>0</td>\n",
       "    </tr>\n",
       "    <tr>\n",
       "      <th>2</th>\n",
       "      <td>2</td>\n",
       "      <td>Calça</td>\n",
       "      <td>75</td>\n",
       "      <td>0</td>\n",
       "    </tr>\n",
       "  </tbody>\n",
       "</table>\n",
       "</div>"
      ],
      "text/plain": [
       "   ID                  Name  Price  Id_Category\n",
       "0   0       Sapato vermelho     96            0\n",
       "1   1  Bolsa mais que Velha   8000            0\n",
       "2   2                 Calça     75            0"
      ]
     },
     "execution_count": 8,
     "metadata": {},
     "output_type": "execute_result"
    }
   ],
   "source": [
    "Produtos.head(3)"
   ]
  },
  {
   "cell_type": "code",
   "execution_count": 9,
   "metadata": {},
   "outputs": [],
   "source": [
    "for index, linha in Produtos.iterrows():\n",
    "    cursor.execute(\"INSERT INTO [Produtos](id, nome, preco, id_categoria) values (?, ?, ?, ?)\",\n",
    "                    linha.ID, linha.Name, linha.Price, linha.Id_Category)\n",
    "\n",
    "cursor.commit()"
   ]
  },
  {
   "cell_type": "code",
   "execution_count": 10,
   "metadata": {},
   "outputs": [],
   "source": [
    "for index, linha in Categoria.iterrows():\n",
    "    # Insere os dados nas colunas\n",
    "    cursor.execute(\"INSERT INTO [Categoria](ID, categoria) values(?, ?)\", linha.id, linha.nome)\n",
    "\n",
    "cursor.commit()   "
   ]
  },
  {
   "cell_type": "code",
   "execution_count": 11,
   "metadata": {},
   "outputs": [],
   "source": [
    "Itens['total_price'] = Itens['total_price'].astype(float)\n",
    "\n",
    "for index, linha in Itens.iterrows():\n",
    "    # Insere os dados nas colunas\n",
    "    cursor.execute(\"INSERT INTO [Itens](id, order_id, product_id, quantity, total_price) values(?, ?, ?, ?, ?)\",\n",
    "                   linha.id, linha.order_id, linha.product_id, linha.quantity, linha.total_price)\n",
    "\n",
    "cursor.commit()  "
   ]
  },
  {
   "cell_type": "code",
   "execution_count": 12,
   "metadata": {},
   "outputs": [],
   "source": [
    "Ordens['created_at'] = pd.to_datetime(Ordens['created_at'])\n",
    "\n",
    "for index, linha in Ordens.iterrows():\n",
    "    # Insere os dados nas colunas\n",
    "    cursor.execute(\"INSERT INTO [Ordens](id, created_at, customer_id, situacao) values(?, ?, ?, ?)\",\n",
    "                   linha.id, linha.created_at, linha.customer_id, linha.status)\n",
    "cursor.commit()\n"
   ]
  },
  {
   "cell_type": "code",
   "execution_count": null,
   "metadata": {},
   "outputs": [],
   "source": [
    "Clientes['created_at'] = pd.to_datetime(Clientes['created_at'])\n",
    "Clientes['email'] = Clientes['email'].fillna('Sem registro')\n",
    "Clientes['street'] = Clientes['street'].fillna('Sem info')\n",
    "Clientes['number'] = Clientes['number'].fillna('Sem número')\n",
    "Clientes['additionals'] = Clientes['additionals'].fillna('Sem info')\n",
    "\n",
    "for index, linha in Clientes.iterrows():\n",
    "    # Converter para o tipo str antes da inserção. É necessário fazer isso por conta dos caracteres especiais, \n",
    "    # No SQL Server é um pouco mais chato quando há caracteres especiais\n",
    "    linha.email = str(linha.email)\n",
    "    linha.state = str(linha.state)\n",
    "    linha.street = str(linha.street)\n",
    "    linha.number = str(linha.number)\n",
    "    linha.additionals = str(linha.additionals)\n",
    "\n",
    "    # Insere os dados nas colunas\n",
    "    cursor.execute(\"INSERT INTO [Clientes](id, created_at, first_name, last_name, email, cell_phone, country, state_brazil,\"\n",
    "                   \"street, number, additionals)values(?, ?, ?, ?, ?, ?, ?, ?, ?, ?, ?)\",\n",
    "                   linha.id, linha.created_at, linha.first_name, linha.last_name, linha.email, linha.cell_phone,\n",
    "                   linha.country, linha.state, linha.street, linha.number, linha.additionals)\n",
    "\n",
    "cursor.commit()"
   ]
  },
  {
   "cell_type": "code",
   "execution_count": null,
   "metadata": {},
   "outputs": [],
   "source": [
    "# Fecha o cursor e a minha conexão com o banco de dados\n",
    "cursor.close()\n",
    "conexaoDB.close()"
   ]
  }
 ],
 "metadata": {
  "kernelspec": {
   "display_name": "venv",
   "language": "python",
   "name": "python3"
  },
  "language_info": {
   "codemirror_mode": {
    "name": "ipython",
    "version": 3
   },
   "file_extension": ".py",
   "mimetype": "text/x-python",
   "name": "python",
   "nbconvert_exporter": "python",
   "pygments_lexer": "ipython3",
   "version": "3.10.2"
  }
 },
 "nbformat": 4,
 "nbformat_minor": 2
}
