{
 "cells": [
  {
   "cell_type": "code",
   "execution_count": null,
   "metadata": {},
   "outputs": [],
   "source": [
    "import pandas as pd\n",
    "import pyodbc\n",
    "\n",
    "server = 'DESKTOP-1Q56108' # Nome do servidor SQL Server\n",
    "database = 'Python'        # Nome do banco de dados\n",
    "conexaoDB = pyodbc.connect('DRIVER={ODBC Driver 17 for SQL Server};'f'SERVER={server};'f'DATABASE={database};''Trusted_Connection=yes;')\n",
    "cursor = conexaoDB.cursor() # criando o cursor de comando para executar as consultas (queries)"
   ]
  },
  {
   "cell_type": "code",
   "execution_count": null,
   "metadata": {},
   "outputs": [],
   "source": [
    "dados_clientes = pd.read_csv(r'C:\\Users\\Cliente\\Desktop\\Engenharia_de_dados_com_Python\\SGBDS_PYTHON\\4_ETL Pandas\\arquivos_csv\\Clientes.csv', delimiter=',')\n",
    "# dados_clientes.head()"
   ]
  },
  {
   "cell_type": "code",
   "execution_count": null,
   "metadata": {},
   "outputs": [],
   "source": [
    "dados_clientes['created_at'] = pd.to_datetime(dados_clientes['created_at'])\n",
    "dados_clientes['email'] = dados_clientes['email'].fillna('Sem registro')\n",
    "dados_clientes['street'] = dados_clientes['street'].fillna('Sem info')\n",
    "dados_clientes['number'] = dados_clientes['number'].fillna('Sem número')\n",
    "dados_clientes['additionals'] = dados_clientes['additionals'].fillna('Sem info')\n",
    "# dados_clientes.head(5)"
   ]
  },
  {
   "cell_type": "code",
   "execution_count": null,
   "metadata": {},
   "outputs": [],
   "source": [
    "cursor.execute('TRUNCATE TABLE [Clientes]')\n",
    "cursor.commit()"
   ]
  },
  {
   "cell_type": "code",
   "execution_count": null,
   "metadata": {},
   "outputs": [],
   "source": [
    "for index, linha in dados_clientes.iterrows():\n",
    "    # Converter para o tipo str antes da inserção. É necessário fazer isso por conta dos caracteres especiais, \n",
    "    # No SQL Server é um pouco mais chato quando há caracteres especiais\n",
    "    linha.email = str(linha.email)\n",
    "    linha.state = str(linha.state)\n",
    "    linha.street = str(linha.street)\n",
    "    linha.number = str(linha.number)\n",
    "    linha.additionals = str(linha.additionals)\n",
    "\n",
    "    # Insere os dados nas colunas\n",
    "    cursor.execute(\"INSERT INTO [Clientes](id, created_at, first_name, last_name, email, cell_phone, country, state_brazil,\"\n",
    "                   \"street, number, additionals)values(?, ?, ?, ?, ?, ?, ?, ?, ?, ?, ?)\",\n",
    "                   linha.id, linha.created_at, linha.first_name, linha.last_name, linha.email, linha.cell_phone,\n",
    "                   linha.country, linha.state, linha.street, linha.number, linha.additionals)\n",
    "\n",
    "cursor.commit()     # Valida os dados no SQL Server\n",
    "cursor.close()      # Fecha o cursor\n",
    "conexaoDB.close()   # Fecha a conexão do SQL Server"
   ]
  },
  {
   "cell_type": "markdown",
   "metadata": {},
   "source": [
    "linha.id, linha.created_at, linha.first_name, linha.last_name, linha.email, linha.cell_phone, linha.country, linha.state, linha.street, linha.number, linha.additionals\n",
    "\n",
    "id, created_at, first_name, last_name, email, cell_phone, country, state, street, number, additionals\n"
   ]
  },
  {
   "cell_type": "code",
   "execution_count": null,
   "metadata": {},
   "outputs": [],
   "source": []
  }
 ],
 "metadata": {
  "kernelspec": {
   "display_name": "venv",
   "language": "python",
   "name": "python3"
  },
  "language_info": {
   "codemirror_mode": {
    "name": "ipython",
    "version": 3
   },
   "file_extension": ".py",
   "mimetype": "text/x-python",
   "name": "python",
   "nbconvert_exporter": "python",
   "pygments_lexer": "ipython3",
   "version": "3.10.2"
  }
 },
 "nbformat": 4,
 "nbformat_minor": 2
}
