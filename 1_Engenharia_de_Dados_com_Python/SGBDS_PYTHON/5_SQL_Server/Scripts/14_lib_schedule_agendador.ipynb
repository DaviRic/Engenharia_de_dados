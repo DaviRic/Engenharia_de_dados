{
 "cells": [
  {
   "cell_type": "code",
   "execution_count": null,
   "metadata": {},
   "outputs": [],
   "source": [
    "# pip install schedule\n",
    "# pip install --upgrade schedule\n",
    "# schedule.readthedocs.io/en/stable"
   ]
  },
  {
   "cell_type": "code",
   "execution_count": null,
   "metadata": {},
   "outputs": [],
   "source": [
    "import pandas as pd\n",
    "import schedule\n",
    "import pyodbc\n",
    "import time\n",
    "\n",
    "\n",
    "def job():\n",
    "    print(\"I'm working...\")\n",
    "\n",
    "schedule.every(10).minutes.do(job)                              # Executa a cada 10 minutos\n",
    "schedule.every().hour.do(job)                                   # Executa a cada hora\n",
    "schedule.every().day.at(\"10:30\").do(job)                        # Executa diariamente à 10:30\n",
    "schedule.every().monday.do(job)                                 # Executa toda segunda-feira\n",
    "schedule.every().wednesday.at(\"13:15\").do(job)                  # Executa todas as quartas às 13:15\n",
    "schedule.every().day.at(\"12:42\", \"Europe/Amsterdam\").do(job)    # Executa diariamente às 12:42 usando o fuso horário Europe/Amsterdam\n",
    "schedule.every().day.at(\"12:42\").do(job)                        # Executa diariamente às 12:42 usando o fuso horário do pc\n",
    "schedule.every().minute.at(\":17\").do(job)                       # Executa a cada minuto quando for no segundo 17\n",
    "\n",
    "while True: # Loop contínuo\n",
    "    schedule.run_pending()\n",
    "    time.sleep(1)"
   ]
  },
  {
   "cell_type": "code",
   "execution_count": null,
   "metadata": {},
   "outputs": [],
   "source": [
    "def job():\n",
    "    server = 'DESKTOP-1Q56108' # Nome do servidor SQL Server\n",
    "    database = 'Python'        # Nome do banco de dados\n",
    "    conexaoDB = pyodbc.connect('DRIVER={ODBC Driver 17 for SQL Server};'f'SERVER={server};'f'DATABASE={database};''Trusted_Connection=yes;')\n",
    "    cursor = conexaoDB.cursor() # criando o cursor de comando para executar as consultas (queries)\n",
    "\n",
    "    dados_categoria = pd.read_excel(r'C:\\Users\\Cliente\\Desktop\\Engenharia_de_dados_com_Python\\SGBDS_PYTHON\\4_ETL Pandas\\arquivos_excel\\Categoria.xlsx')\n",
    "\n",
    "    cursor.execute('DELETE FROM [Categoria]')\n",
    "    cursor.commit()\n",
    "\n",
    "    dados_categoria.head(5)\n",
    "\n",
    "    for index, linha in dados_categoria.iterrows():\n",
    "        # Insere os dados nas colunas\n",
    "        cursor.execute(\"INSERT INTO [Categoria](ID, categoria) values(?, ?)\", linha.id, linha.nome)\n",
    "\n",
    "    cursor.commit()     # Valida os dados no SQL Server\n",
    "    cursor.close()      # Fecha o cursor\n",
    "    conexaoDB.close()   # Fecha a conexão do SQL Server\n",
    "\n",
    "schedule.every().hour.do(job) # Escolher a frequência na qual a função será executada\n",
    "while True: # Loop contínuo\n",
    "    schedule.run_pending() # Executa tarefas agendadas que estão prontas para serem executadas\n",
    "    time.sleep(1) # Pausa por 1 segundo antes de verificar novamente as tarefas agendadas"
   ]
  }
 ],
 "metadata": {
  "kernelspec": {
   "display_name": "venv",
   "language": "python",
   "name": "python3"
  },
  "language_info": {
   "codemirror_mode": {
    "name": "ipython",
    "version": 3
   },
   "file_extension": ".py",
   "mimetype": "text/x-python",
   "name": "python",
   "nbconvert_exporter": "python",
   "pygments_lexer": "ipython3",
   "version": "3.10.2"
  }
 },
 "nbformat": 4,
 "nbformat_minor": 2
}
