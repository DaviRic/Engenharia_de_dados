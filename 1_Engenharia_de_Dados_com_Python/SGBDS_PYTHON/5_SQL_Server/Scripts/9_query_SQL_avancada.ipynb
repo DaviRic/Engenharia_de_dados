{
 "cells": [
  {
   "cell_type": "code",
   "execution_count": 5,
   "metadata": {},
   "outputs": [],
   "source": [
    "import pandas as pd\n",
    "import pyodbc\n",
    "\n",
    "server = 'DESKTOP-1Q56108' # Nome do servidor SQL Server\n",
    "database = 'Python'        # Nome do banco de dados\n",
    "conexaoDB = pyodbc.connect('DRIVER={ODBC Driver 18 for SQL Server};'f'SERVER={server};'f'DATABASE={database};''Trusted_Connection=yes;')\n",
    "cursor = conexaoDB.cursor() # criando o cursor de comando para executar as consultas (queries)"
   ]
  },
  {
   "cell_type": "code",
   "execution_count": null,
   "metadata": {},
   "outputs": [],
   "source": [
    "query = \"\"\"\n",
    "SELECT T1.id as id_vendas,\n",
    "T1.product_id, T1.total_price,\n",
    "T2.created_at, T2.situacao,\n",
    "T3.nome as nome_produto, T4.categoria, T5.first_name as nome_cliente,\n",
    "T5.email, T5.cell_phone as telefone_cliente, T5.state_brazil\n",
    "FROM [dbo].[Itens] as T1\n",
    "LEFT JOIN [dbo].[Ordens] as T2 ON T1.order_id = T2.id\n",
    "LEFT JOIN [dbo].[Produtos] as T3 ON T3.id = T3.id\n",
    "LEFT JOIN [dbo].[Categoria] as T4 on T3.id_categoria = T4.ID\n",
    "LEFT JOIN [dbo].[Clientes] as T5 on T2.customer_id = T5.id\n",
    "\"\"\""
   ]
  },
  {
   "cell_type": "code",
   "execution_count": null,
   "metadata": {},
   "outputs": [],
   "source": [
    "df_query = pd.read_sql(query, conexaoDB)"
   ]
  }
 ],
 "metadata": {
  "kernelspec": {
   "display_name": "venv",
   "language": "python",
   "name": "python3"
  },
  "language_info": {
   "codemirror_mode": {
    "name": "ipython",
    "version": 3
   },
   "file_extension": ".py",
   "mimetype": "text/x-python",
   "name": "python",
   "nbconvert_exporter": "python",
   "pygments_lexer": "ipython3",
   "version": "3.10.2"
  }
 },
 "nbformat": 4,
 "nbformat_minor": 2
}
